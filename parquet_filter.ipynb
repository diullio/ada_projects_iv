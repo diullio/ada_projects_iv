{
 "cells": [
  {
   "cell_type": "code",
   "execution_count": 1,
   "metadata": {},
   "outputs": [],
   "source": [
    "import pandas as pd\n",
    "import pyarrow as pa\n",
    "import pyarrow.parquet as pq"
   ]
  },
  {
   "cell_type": "code",
   "execution_count": 2,
   "metadata": {},
   "outputs": [
    {
     "name": "stderr",
     "output_type": "stream",
     "text": [
      "C:\\Users\\Diullio\\AppData\\Local\\Temp/ipykernel_24012/3861045040.py:2: DtypeWarning: Columns (11) have mixed types. Specify dtype option on import or set low_memory=False.\n",
      "  farmacos = pd.read_csv(f'EDA_Industrializados_20210{i}.csv', sep=\";\", encoding=\"latin1\")\n",
      "C:\\Users\\Diullio\\AppData\\Local\\Temp/ipykernel_24012/3861045040.py:2: DtypeWarning: Columns (11) have mixed types. Specify dtype option on import or set low_memory=False.\n",
      "  farmacos = pd.read_csv(f'EDA_Industrializados_20210{i}.csv', sep=\";\", encoding=\"latin1\")\n",
      "C:\\Users\\Diullio\\AppData\\Local\\Temp/ipykernel_24012/3861045040.py:2: DtypeWarning: Columns (11) have mixed types. Specify dtype option on import or set low_memory=False.\n",
      "  farmacos = pd.read_csv(f'EDA_Industrializados_20210{i}.csv', sep=\";\", encoding=\"latin1\")\n",
      "C:\\Users\\Diullio\\AppData\\Local\\Temp/ipykernel_24012/3861045040.py:2: DtypeWarning: Columns (11) have mixed types. Specify dtype option on import or set low_memory=False.\n",
      "  farmacos = pd.read_csv(f'EDA_Industrializados_20210{i}.csv', sep=\";\", encoding=\"latin1\")\n",
      "C:\\Users\\Diullio\\AppData\\Local\\Temp/ipykernel_24012/3861045040.py:2: DtypeWarning: Columns (11) have mixed types. Specify dtype option on import or set low_memory=False.\n",
      "  farmacos = pd.read_csv(f'EDA_Industrializados_20210{i}.csv', sep=\";\", encoding=\"latin1\")\n",
      "C:\\Users\\Diullio\\AppData\\Local\\Temp/ipykernel_24012/3861045040.py:2: DtypeWarning: Columns (11) have mixed types. Specify dtype option on import or set low_memory=False.\n",
      "  farmacos = pd.read_csv(f'EDA_Industrializados_20210{i}.csv', sep=\";\", encoding=\"latin1\")\n",
      "C:\\Users\\Diullio\\AppData\\Local\\Temp/ipykernel_24012/3861045040.py:2: DtypeWarning: Columns (11) have mixed types. Specify dtype option on import or set low_memory=False.\n",
      "  farmacos = pd.read_csv(f'EDA_Industrializados_20210{i}.csv', sep=\";\", encoding=\"latin1\")\n"
     ]
    }
   ],
   "source": [
    "for i in range(1, 10):\n",
    "    farmacos = pd.read_csv(f'EDA_Industrializados_20210{i}.csv', sep=\";\", encoding=\"latin1\")\n",
    "    df = farmacos.filter([\"MES_VENDA\", \"UF_VENDA\", \"MUNICIPIO_VENDA\", \"PRINCIPIO_ATIVO\", \"QTD_VENDIDA\", \"UNIDADE_MEDIDA\", \"SEXO\", \"IDADE\"])\n",
    "    pq.write_table(pa.Table.from_pandas(df), f'farmacos_{i}.parquet')"
   ]
  },
  {
   "cell_type": "code",
   "execution_count": 3,
   "metadata": {},
   "outputs": [],
   "source": [
    "for i in range(10,12):\n",
    "    df = pd.read_csv(f'EDA_Industrializados_2021{i}.csv', sep=\";\", encoding=\"latin1\")\n",
    "    pq.write_table(pa.Table.from_pandas(df), f'farmacos_{i}.parquet')"
   ]
  }
 ],
 "metadata": {
  "kernelspec": {
   "display_name": "Python 3",
   "language": "python",
   "name": "python3"
  },
  "language_info": {
   "codemirror_mode": {
    "name": "ipython",
    "version": 3
   },
   "file_extension": ".py",
   "mimetype": "text/x-python",
   "name": "python",
   "nbconvert_exporter": "python",
   "pygments_lexer": "ipython3",
   "version": "3.9.7"
  },
  "orig_nbformat": 4
 },
 "nbformat": 4,
 "nbformat_minor": 2
}
